{
 "cells": [
  {
   "cell_type": "markdown",
   "metadata": {
    "collapsed": true
   },
   "source": [
    "# Introductory applied machine learning (INFR10069)"
   ]
  },
  {
   "cell_type": "markdown",
   "metadata": {},
   "source": "<div align=\"right\"><font color=\"blue\" size=\"5\">Your Score was 80.5 out of a total of 115.0, or 70.0%</font></div>"
  },
  {
   "cell_type": "markdown",
   "metadata": {},
   "source": [
    "# Assignment 1: Data analysis and visualisation"
   ]
  },
  {
   "cell_type": "markdown",
   "metadata": {},
   "source": [
    "## Important Instructions\n",
    "\n",
    "**It is important that you follow the instructions below to the letter - we will not be responsible for incorrect marking due to non-standard practices.**\n",
    "\n",
    "1. You *MUST* have your environment set up as in the [README](https://github.com/michael-camilleri/IAML2018) and you *must activate this environment before running this notebook*:\n",
    "```\n",
    "source activate py3iaml\n",
    "cd [DIRECTORY CONTAINING GIT REPOSITORY]\n",
    "jupyter notebook\n",
    "# Navigate to this file\n",
    "```\n",
    "\n",
    "1. Read the instructions carefully, especially where asked to name variables with a specific name. Wherever you are required to produce code you should use code cells, otherwise you should use markdown cells to report results and explain answers. In most cases we indicate the nature of answer we are expecting (code/text), and also provide the code/markdown cell where to put it\n",
    "\n",
    "1. There are some questions which are **specific to those taking the Level-11 version** of the course (INFR11182 and INFR11152). These are clearly marked with the words **(LEVEL 11)** and must be completed by those taking the Level 11 course. Those on the Level 10 version (INFR10069) may (and are advised to) attempt such questions but this will not affect their mark in any way, nor will they get feedback on them.\n",
    "\n",
    "1. The .csv files that you will be using are located at `./datasets` (i.e. use the `datasets` directory **adjacent** to this file).\n",
    "\n",
    "1. Keep your answers brief and concise. Most written questions can be answered with 2-3 lines of explanation.\n",
    "\n",
    "1. Make sure to show **all** your code/working. \n",
    "\n",
    "1. Write readable code. While we do not expect you to follow [PEP8](https://www.python.org/dev/peps/pep-0008/) to the letter, the code should be adequately understandable, with plots/visualisations correctly labelled. **Do** use inline comments when doing something non-standard. When asked to present numerical values, make sure to represent real numbers in the appropriate precision to exemplify your answer. Marks *WILL* be deducted if the marker cannot understand your logic/results.\n",
    "\n",
    "1. **Collaboration:** You may discuss the assignment with your colleagues, provided that the writing that you submit is entirely your own. That is, you should NOT borrow actual text or code from other students. We ask that you provide a list of the people who you've had discussions with (if any).\n",
    "\n",
    "### SUBMISSION Mechanics\n",
    "\n",
    "**IMPORTANT:** You must submit this assignment by **Thursday 18/10/2018 at 16:00**. \n",
    "\n",
    "**Late submissions:** The policy stated in the School of Informatics is that normally you will not be allowed to submit coursework late. See the [ITO webpage](http://web.inf.ed.ac.uk/infweb/student-services/ito/admin/coursework-projects/late-coursework-extension-requests) for exceptions to this, e.g. in case of serious medical illness or serious personal problems.\n",
    "\n",
    "**Resubmission:** If you submit your file again, the previous submission is **overwritten**. We will mark the version that is in the submission folder at the deadline.\n",
    "\n",
    "All submissions happen electronically. To submit:\n",
    "\n",
    "1. Fill out this notebook, and save it, making sure to **KEEP the name of the file UNCHANGED**.\n",
    "\n",
    "1. On a DICE environment, open the terminal, navigate to the location of this notebook, and submit this notebook file using the following command:\n",
    "\n",
    "  ```submit iaml cw1 \"01_Analysis.ipynb\"```\n",
    "\n",
    "  What actually happens in the background is that your file is placed in a folder available to markers. If you submit a file with the same name into the same location, **it will *overwrite* your previous submission**. You can check the status of your submissions with the `show_submissions` command.\n",
    "  \n",
    "1. **Distance Learners:** To copy your work onto DICE (so that you can use the `submit` command) you can use `scp` or `rsync` (you may need to install these yourself). You can copy files to `student.ssh.inf.ed.ac.uk`, then ssh into it in order to submit. The following is an example (replace entries in `[square brackets]` with your specific details):\n",
    "```\n",
    "filename=\"01_Analysis.ipynb\"\n",
    "local_scp_filepath=[DIRECTORY CONTAINING GIT REPOSITORY]${filename}\n",
    "server_address=student.ssh.inf.ed.ac.uk\n",
    "scp -r ${local_scp_filepath} [YOUR USERNAME]@${server_address}:${filename}\n",
    "# rsync -rl ${local_scp_filepath} [YOUR USERNAME]@${server_address}:${filename}\n",
    "ssh [YOUR USERNAME]@${server_address}\n",
    "ssh student.login\n",
    "submit iaml cw1 \"01_Analysis.ipynb\"\n",
    "```\n",
    "\n",
    "### Marking Breakdown\n",
    "\n",
    "The Level 10 and Level 11 points are marked out of different totals, however these are all normalised to 100%.\n",
    "\n",
    "**70-100%** results/answer correct plus extra achievement at understanding or analysis of results. Clear explanations, evidence of creative or deeper thought will contribute to a higher grade.\n",
    "\n",
    "**60-69%** results/answer correct or nearly correct and well explained.\n",
    "\n",
    "**50-59%** results/answer in right direction but significant errors.\n",
    "\n",
    "**40-49%** some evidence that the student has gained some understanding, but not answered the questions\n",
    "properly.\n",
    "\n",
    "**0-39%** serious error or slack work.\n",
    "\n",
    "Note that while this is not a programming assignment, in questions which involve visualisation of results and/or long cold snippets, some marks may be deducted if the code is not adequately readable."
   ]
  },
  {
   "cell_type": "markdown",
   "metadata": {},
   "source": [
    "## Imports\n",
    "\n",
    "Execute the cell below to import all packages you will be using in the rest of the assignemnt."
   ]
  },
  {
   "cell_type": "code",
   "execution_count": 29,
   "metadata": {},
   "outputs": [],
   "source": [
    "%matplotlib inline\n",
    "\n",
    "import os\n",
    "import sys\n",
    "import sklearn\n",
    "import numpy as np\n",
    "import pandas as pd\n",
    "import matplotlib.pyplot as plt\n",
    "import seaborn as sns\n",
    "from sklearn.metrics import accuracy_score\n",
    "from sklearn.naive_bayes import GaussianNB\n",
    "from sklearn.metrics import confusion_matrix\n",
    "from sklearn.dummy import DummyClassifier\n",
    "\n",
    "sys.path.append('..')\n",
    "from utils.plotter import scatter_jitter, plot_confusion_matrix"
   ]
  },
  {
   "cell_type": "markdown",
   "metadata": {},
   "source": [
    "## Description of the dataset\n",
    "\n",
    "This assignment is based on the 20 Newsgroups Dataset. This dataset is a collection of approximately 20,000 newsgroup documents, partitioned (nearly) evenly across 20 different newsgroups, each corresponding to a different topic. Some of the newsgroups are very closely related to each other (e.g. comp.sys.ibm.pc.hardware, comp.sys.mac.hardware), while others are highly unrelated (e.g misc.forsale, soc.religion.christian). \n",
    "\n",
    "There are three versions of the 20 Newsgroups Dataset. In this assignment we will use the `bydate` matlab version in which documents are sorted by date into training (60%) and test (40%) sets, newsgroup-identifying headers are dropped and duplicates are removed. This collection comprises roughly 61,000 different words, which results in a bag-of-words representation with frequency counts. More specifically, each document is represented by a 61,000 dimensional vector that contains the counts for each of the 61,000 different words present in the respective document. \n",
    "\n",
    "To save you time and to make the problem manageable with limited computational resources, we preprocessed the original dataset. We will use documents from only 5 out of the 20 newsgroups, which results in a 5-class problem. The class is conveniently stored in the `class` column. More specifically the 5 classes correspond to the following newsgroups: \n",
    "1. `alt.atheism`\n",
    "2. `comp.sys.ibm.pc.hardware`\n",
    "3. `comp.sys.mac.hardware`\n",
    "4. `rec.sport.baseball`\n",
    "5. `rec.sport.hockey `\n",
    "\n",
    "However, note here that classes 2-3 and 4-5 are rather closely related. Additionally, we computed the [mutual information](https://en.wikipedia.org/wiki/Mutual_information) of each word with the class attribute and selected the some words out of 61,000 that had highest mutual information. For very sophisticated technical reasons (which you should know!) 1 was added to all the word counts in part 1. The resulting representation is much more compact and can be used directly to perform our experiments in Python.\n",
    "\n",
    "**Hint**: The data was preprocessed by a very busy PhD student... and hence should never be taken to be perfect at face value!"
   ]
  },
  {
   "cell_type": "markdown",
   "metadata": {},
   "source": [
    "## 1. Exploration of the dataset"
   ]
  },
  {
   "cell_type": "markdown",
   "metadata": {},
   "source": [
    "Your first task is to get a feel for the data that you will be dealing with in the rest of the assignment."
   ]
  },
  {
   "cell_type": "markdown",
   "metadata": {},
   "source": [
    "### ========== Question 1.1 --- [10 marks] ==========\n",
    "\n",
    "1. [Code] Load the dataset `raw_20news.csv` into a data-frame called `news_raw`. Using pandas methods we learnt in class, extract some basic information about the data. \n",
    "\n",
    "1. [Text] In a short paragraph, summarise the key features of the dataset. *Hint: Look at what we did in the labs.*"
   ]
  },
  {
   "cell_type": "markdown",
   "metadata": {},
   "source": "<div align=\"right\"><font color=\"blue\" size=\"4\">6.0/10.0</font></div>"
  },
  {
   "cell_type": "code",
   "execution_count": 2,
   "metadata": {},
   "outputs": [
    {
     "name": "stdout",
     "output_type": "stream",
     "text": [
      "<class 'pandas.core.frame.DataFrame'>\n",
      "Int64Index: 2129 entries, 0 to 2256\n",
      "Columns: 521 entries, w1_aaa to class\n",
      "dtypes: int64(521)\n",
      "memory usage: 8.5 MB\n"
     ]
    },
    {
     "data": {
      "text/plain": [
       "(2129, 521)"
      ]
     },
     "execution_count": 2,
     "metadata": {},
     "output_type": "execute_result"
    }
   ],
   "source": [
    "data_path = os.path.join(os.getcwd(), 'datasets', 'raw_20news.csv')\n",
    "news_raw = pd.read_csv(data_path, delimiter = ',')\n",
    "news_raw.info()\n",
    "news_raw.shape"
   ]
  },
  {
   "cell_type": "markdown",
   "metadata": {},
   "source": "<div align=\"right\"><font color=\"blue\" size=\"4\">3.0</font></div>"
  },
  {
   "cell_type": "markdown",
   "metadata": {},
   "source": [
    "(2) The dataset has 2129 rows and 521 columns. The datatype of each column is integer of size 64 bits each (8 bytes). The size of the dataset is 8.5 Mega Bytes. Out of the 521 columns in the dataset there are 520 attributes and the last column is the class label named 'class'.Each of the 2129 rows represent a document belonging to a particular class."
   ]
  },
  {
   "cell_type": "markdown",
   "metadata": {},
   "source": "<div align=\"right\"><font color=\"blue\" size=\"4\">3.0</font></div>"
  },
  {
   "cell_type": "markdown",
   "metadata": {},
   "source": [
    "### ========== Question 1.2 ---  [6 marks] ==========\n",
    "1. [Code] Display the names of some of the attributes in the training datset. \n",
    "1. [Text] Describe the output and comment (1 or 2 sentences) keeping in mind the selection procedure for the features."
   ]
  },
  {
   "cell_type": "markdown",
   "metadata": {},
   "source": "<div align=\"right\"><font color=\"blue\" size=\"4\">2.0/6.0</font></div>"
  },
  {
   "cell_type": "code",
   "execution_count": 3,
   "metadata": {},
   "outputs": [
    {
     "data": {
      "text/html": [
       "<div>\n",
       "<style scoped>\n",
       "    .dataframe tbody tr th:only-of-type {\n",
       "        vertical-align: middle;\n",
       "    }\n",
       "\n",
       "    .dataframe tbody tr th {\n",
       "        vertical-align: top;\n",
       "    }\n",
       "\n",
       "    .dataframe thead th {\n",
       "        text-align: right;\n",
       "    }\n",
       "</style>\n",
       "<table border=\"1\" class=\"dataframe\">\n",
       "  <thead>\n",
       "    <tr style=\"text-align: right;\">\n",
       "      <th></th>\n",
       "      <th>w1_aaa</th>\n",
       "      <th>w2_pins</th>\n",
       "      <th>w3_kmr</th>\n",
       "      <th>w4_notion</th>\n",
       "      <th>w5_queens</th>\n",
       "      <th>w6_dwyer</th>\n",
       "      <th>w7_defenseman</th>\n",
       "      <th>w8_gld</th>\n",
       "      <th>w9_tocchet</th>\n",
       "      <th>w10_home</th>\n",
       "      <th>...</th>\n",
       "      <th>w512_constantly</th>\n",
       "      <th>w513_generate</th>\n",
       "      <th>w514_definite</th>\n",
       "      <th>w515_lacks</th>\n",
       "      <th>w516_combination</th>\n",
       "      <th>w517_sitting</th>\n",
       "      <th>w518_surface</th>\n",
       "      <th>w519_fashion</th>\n",
       "      <th>w520_sit</th>\n",
       "      <th>class</th>\n",
       "    </tr>\n",
       "  </thead>\n",
       "  <tbody>\n",
       "    <tr>\n",
       "      <th>0</th>\n",
       "      <td>1</td>\n",
       "      <td>1</td>\n",
       "      <td>1</td>\n",
       "      <td>1</td>\n",
       "      <td>1</td>\n",
       "      <td>1</td>\n",
       "      <td>1</td>\n",
       "      <td>1</td>\n",
       "      <td>1</td>\n",
       "      <td>1</td>\n",
       "      <td>...</td>\n",
       "      <td>1</td>\n",
       "      <td>5</td>\n",
       "      <td>3</td>\n",
       "      <td>6</td>\n",
       "      <td>8</td>\n",
       "      <td>4</td>\n",
       "      <td>6</td>\n",
       "      <td>4</td>\n",
       "      <td>8</td>\n",
       "      <td>4</td>\n",
       "    </tr>\n",
       "    <tr>\n",
       "      <th>1</th>\n",
       "      <td>1</td>\n",
       "      <td>1</td>\n",
       "      <td>1</td>\n",
       "      <td>1</td>\n",
       "      <td>1</td>\n",
       "      <td>1</td>\n",
       "      <td>1</td>\n",
       "      <td>1</td>\n",
       "      <td>1</td>\n",
       "      <td>1</td>\n",
       "      <td>...</td>\n",
       "      <td>2</td>\n",
       "      <td>3</td>\n",
       "      <td>6</td>\n",
       "      <td>8</td>\n",
       "      <td>3</td>\n",
       "      <td>4</td>\n",
       "      <td>5</td>\n",
       "      <td>6</td>\n",
       "      <td>5</td>\n",
       "      <td>4</td>\n",
       "    </tr>\n",
       "    <tr>\n",
       "      <th>2</th>\n",
       "      <td>1</td>\n",
       "      <td>1</td>\n",
       "      <td>1</td>\n",
       "      <td>1</td>\n",
       "      <td>1</td>\n",
       "      <td>1</td>\n",
       "      <td>1</td>\n",
       "      <td>1</td>\n",
       "      <td>1</td>\n",
       "      <td>2</td>\n",
       "      <td>...</td>\n",
       "      <td>4</td>\n",
       "      <td>2</td>\n",
       "      <td>6</td>\n",
       "      <td>5</td>\n",
       "      <td>2</td>\n",
       "      <td>5</td>\n",
       "      <td>5</td>\n",
       "      <td>7</td>\n",
       "      <td>8</td>\n",
       "      <td>2</td>\n",
       "    </tr>\n",
       "    <tr>\n",
       "      <th>3</th>\n",
       "      <td>1</td>\n",
       "      <td>1</td>\n",
       "      <td>1</td>\n",
       "      <td>1</td>\n",
       "      <td>1</td>\n",
       "      <td>1</td>\n",
       "      <td>1</td>\n",
       "      <td>1</td>\n",
       "      <td>1</td>\n",
       "      <td>1</td>\n",
       "      <td>...</td>\n",
       "      <td>6</td>\n",
       "      <td>3</td>\n",
       "      <td>6</td>\n",
       "      <td>1</td>\n",
       "      <td>1</td>\n",
       "      <td>8</td>\n",
       "      <td>1</td>\n",
       "      <td>8</td>\n",
       "      <td>4</td>\n",
       "      <td>3</td>\n",
       "    </tr>\n",
       "    <tr>\n",
       "      <th>4</th>\n",
       "      <td>1</td>\n",
       "      <td>1</td>\n",
       "      <td>1</td>\n",
       "      <td>1</td>\n",
       "      <td>1</td>\n",
       "      <td>1</td>\n",
       "      <td>1</td>\n",
       "      <td>1</td>\n",
       "      <td>1</td>\n",
       "      <td>1</td>\n",
       "      <td>...</td>\n",
       "      <td>6</td>\n",
       "      <td>1</td>\n",
       "      <td>7</td>\n",
       "      <td>8</td>\n",
       "      <td>6</td>\n",
       "      <td>3</td>\n",
       "      <td>1</td>\n",
       "      <td>8</td>\n",
       "      <td>4</td>\n",
       "      <td>3</td>\n",
       "    </tr>\n",
       "  </tbody>\n",
       "</table>\n",
       "<p>5 rows \u00d7 521 columns</p>\n",
       "</div>"
      ],
      "text/plain": [
       "   w1_aaa  w2_pins  w3_kmr  w4_notion  w5_queens  w6_dwyer  w7_defenseman  \\\n",
       "0       1        1       1          1          1         1              1   \n",
       "1       1        1       1          1          1         1              1   \n",
       "2       1        1       1          1          1         1              1   \n",
       "3       1        1       1          1          1         1              1   \n",
       "4       1        1       1          1          1         1              1   \n",
       "\n",
       "   w8_gld  w9_tocchet  w10_home  ...    w512_constantly  w513_generate  \\\n",
       "0       1           1         1  ...                  1              5   \n",
       "1       1           1         1  ...                  2              3   \n",
       "2       1           1         2  ...                  4              2   \n",
       "3       1           1         1  ...                  6              3   \n",
       "4       1           1         1  ...                  6              1   \n",
       "\n",
       "   w514_definite  w515_lacks  w516_combination  w517_sitting  w518_surface  \\\n",
       "0              3           6                 8             4             6   \n",
       "1              6           8                 3             4             5   \n",
       "2              6           5                 2             5             5   \n",
       "3              6           1                 1             8             1   \n",
       "4              7           8                 6             3             1   \n",
       "\n",
       "   w519_fashion  w520_sit  class  \n",
       "0             4         8      4  \n",
       "1             6         5      4  \n",
       "2             7         8      2  \n",
       "3             8         4      3  \n",
       "4             8         4      3  \n",
       "\n",
       "[5 rows x 521 columns]"
      ]
     },
     "execution_count": 3,
     "metadata": {},
     "output_type": "execute_result"
    }
   ],
   "source": [
    "news_raw.head(5)"
   ]
  },
  {
   "cell_type": "markdown",
   "metadata": {},
   "source": "<div align=\"right\"><font color=\"blue\" size=\"4\">2.0</font></div>"
  },
  {
   "cell_type": "markdown",
   "metadata": {},
   "source": [
    "(2) Each row represents a document belonging to a class. The class of each document is determined by the value in the class column. In each row the values under the columns (other than the class column) represent, 1 + the frequency count of each word in that document. (It is, 1 + the frequency count, because it is mentioned in the Data Description of the assignment that: 1 was added to all the word counts)"
   ]
  },
  {
   "cell_type": "markdown",
   "metadata": {},
   "source": "<div align=\"right\"><font color=\"blue\" size=\"4\">0.0</font></div>"
  },
  {
   "cell_type": "markdown",
   "metadata": {},
   "source": [
    "### ========== Question 1.3 --- [4 marks] ==========\n",
    "Familiarise yourself with the [`stripplot`](https://seaborn.github.io/generated/seaborn.stripplot.html?highlight=stripplot#seaborn.stripplot) function in `seaborn`. \n",
    "\n",
    "1. [Code] Pick one attribute of your choice (except `class`) and display a stripplot for that attribute for the raw dataset. Demonstrate the distribution of the data separately for each class (by making appropriate use of the `x` argument in `stripplot`). Set the `jitter` argument to `True` and the `alpha` argument to an appropriate value (to add transparency to better visualise your model). When the jitter parameter is enabled a small amount of noise is added to the data so that there is less overlap and the distribution is easier to visualise. \n",
    " ***N.B.*** *If for some reason, the alpha parameter does not work for you, then ignore it.*\n",
    "\n",
    "1. [Text] Mention anything peculiar you observe in the Data."
   ]
  },
  {
   "cell_type": "markdown",
   "metadata": {},
   "source": "<div align=\"right\"><font color=\"blue\" size=\"4\">4.0/4.0</font></div>"
  },
  {
   "cell_type": "code",
   "execution_count": 4,
   "metadata": {},
   "outputs": [
    {
     "data": {
      "text/plain": [
       "<matplotlib.axes._subplots.AxesSubplot at 0x7f6806b78828>"
      ]
     },
     "execution_count": 4,
     "metadata": {},
     "output_type": "execute_result"
    },
    {
     "data": {
      "image/png": "[encoded data removed]",
      "text/plain": [
       "<Figure size 432x288 with 1 Axes>"
      ]
     },
     "metadata": {
      "needs_background": "light"
     },
     "output_type": "display_data"
    }
   ],
   "source": [
    "ax = sns.stripplot(x = 'class',y = 'w512_constantly',data = news_raw, jitter = True, alpha = 0.45)\n",
    "ax"
   ]
  },
  {
   "cell_type": "markdown",
   "metadata": {},
   "source": "<div align=\"right\"><font color=\"blue\" size=\"4\">2.0</font></div>"
  },
  {
   "cell_type": "markdown",
   "metadata": {},
   "source": [
    "(2) From the scatter plot it is observed that the attribute 'w512_constantly' in all the classes {1,2,3,4,5}, takes very small values, but there there are some data points in each class, where it takes very high values (outliers in the data set)"
   ]
  },
  {
   "cell_type": "markdown",
   "metadata": {},
   "source": "<div align=\"right\"><font color=\"blue\" size=\"4\">2.0</font></div>"
  },
  {
   "cell_type": "markdown",
   "metadata": {},
   "source": [
    "### ========== Question 1.4  --- [8 marks] ==========\n",
    "Let us analyse this further. The stripplot illustrates the distribution of a single attribute. We can also visualise the joint distribution of two variables by using a scatter plot. Again, we want to add a bit of jitter into the data so that is easier to see which parts of the space (2-dimensional in our case) have larger probability densities. For this, you will be using the function `scatter_jitter` from the `utils` library which we provided. This function takes as input two numpy arrays containing the features of interest. \n",
    "\n",
    "1. [Code] First, pick two attributes of your choice from `news_raw` and use the provided function to plot their joint distribution. Do this twice (i.e. pick 4 attributes and do plots between two pairs: you do not need to plot between each possible pair). You can play around with the amount of noise added by tweaking the `jitter` parameter. Alternatively, you can just use its default value which is set to 0.2. Label the axes appropriately.\n",
    "\n",
    "1. [Text] Do these plots increase or reduce the possibility of the data-set containing outliers? Why or why not? How would you visualise the data to verify this? **N.B. There is no need to code anything for this part, just indicate a reasonable type of plot, and what you expect to see.**"
   ]
  },
  {
   "cell_type": "markdown",
   "metadata": {},
   "source": "<div align=\"right\"><font color=\"blue\" size=\"4\">5.0/8.0</font></div>"
  },
  {
   "cell_type": "code",
   "execution_count": 16,
   "metadata": {},
   "outputs": [
    {
     "data": {
      "image/png": "[encoded data removed]",
      "text/plain": [
       "<Figure size 432x288 with 1 Axes>"
      ]
     },
     "metadata": {
      "needs_background": "light"
     },
     "output_type": "display_data"
    }
   ],
   "source": [
    "scatter_jitter(news_raw['w512_constantly'].values,news_raw['w513_generate'].values) # default jitter is set to 0.2\n",
    "scatter_jitter(news_raw['w514_definite'].values,news_raw['w515_lacks'].values)\n",
    "plt.xlabel('Count ')\n",
    "plt.ylabel('Count')\n",
    "plt.show()"
   ]
  },
  {
   "cell_type": "markdown",
   "metadata": {},
   "source": "<div align=\"right\"><font color=\"blue\" size=\"4\">3.0</font></div>"
  },
  {
   "cell_type": "markdown",
   "metadata": {},
   "source": [
    "(2) These plots demonstrate an increase in the possibility of the data-set containing outliers, because most of the values of the attributes are very small, however there are some values which are very large. These seem like the outliers in the data set."
   ]
  },
  {
   "cell_type": "markdown",
   "metadata": {},
   "source": "<div align=\"right\"><font color=\"blue\" size=\"4\">2.0</font></div>"
  },
  {
   "cell_type": "markdown",
   "metadata": {},
   "source": [
    "### ========== Question 1.5 --- [15 marks] ==========\n",
    "We want to get rid of the potential outliers in the data. Your job now is to create a new dataset from `news_raw` (name it `news_clean`) and remove the outliers.\n",
    "\n",
    "1. [Text] Decide on a criterion to find the outliers and argue why it is reasonable. \n",
    "1. [Code] Then implement it and visualise the result (in terms of your criterion). **Be careful** not to alter the original dataset as we will need it later. \n",
    "1. [Text] Finally report the number of documents in the cleaned dataset, and the number rejected as outliers and comment on the result"
   ]
  },
  {
   "cell_type": "markdown",
   "metadata": {},
   "source": "<div align=\"right\"><font color=\"blue\" size=\"4\">10.0/15.0</font></div>"
  },
  {
   "cell_type": "markdown",
   "metadata": {},
   "source": [
    "(1) Criterion: Find the mean of each attribute and its corresponding standard deviation. Consider each of the attributes in the data set seperately. If the value of an attribute is greater than that particular attribute's 'mean+standard deviation' for a given data point, then remove the data point from the data set.\n",
    "\n",
    "Reasonable criterion because: While trying to fit a Gaussian Naive Bayes Model to the data, most of the values are expected to be centered around the mean. By adding one standard deviation to the mean we limit the amount by which the attribute value can vary from the mean, for a given data point."
   ]
  },
  {
   "cell_type": "markdown",
   "metadata": {},
   "source": "<div align=\"right\"><font color=\"blue\" size=\"4\">3.0</font></div>"
  },
  {
   "cell_type": "code",
   "execution_count": 17,
   "metadata": {},
   "outputs": [
    {
     "name": "stdout",
     "output_type": "stream",
     "text": [
      "Number of points in the cleaned dataset:  2083\n",
      "Number of points rejected as outliers:  46\n"
     ]
    },
    {
     "data": {
      "image/png": "[encoded data removed]",
      "text/plain": [
       "<Figure size 432x288 with 1 Axes>"
      ]
     },
     "metadata": {
      "needs_background": "light"
     },
     "output_type": "display_data"
    }
   ],
   "source": [
    "news_clean = news_raw.copy(deep=True)\n",
    "number_points_raw_dataset = news_raw.shape[0]\n",
    "attribute_names = list(news_clean.columns.values)\n",
    "# removing 'class' from attribute names \n",
    "attribute_names = attribute_names[:len(attribute_names)-1]\n",
    "# Building the threshold for each_attribute ie: Mean + Standard Deviation\n",
    "description_of_news_raw = news_raw.describe()\n",
    "threshold = dict()\n",
    "for attribute in attribute_names:\n",
    "    threshold[attribute] = description_of_news_raw[attribute]['mean'] + description_of_news_raw[attribute]['std']\n",
    "# Cleaning the data set accrording to the criterion\n",
    "for attribute in attribute_names:\n",
    "     news_clean = news_clean[news_clean[attribute] < threshold[attribute]]\n",
    "number_points_clean_dataset = news_clean.shape[0]       \n",
    "print('Number of points in the cleaned dataset: ', number_points_clean_dataset)\n",
    "print('Number of points rejected as outliers: ', (number_points_raw_dataset-number_points_clean_dataset))\n",
    "\n",
    "# Replotting using scatter jitter after removing outliers as per the threshold\n",
    "scatter_jitter(news_clean['w512_constantly'].values,news_clean['w513_generate'].values) # default jitter is set to 0.2\n",
    "scatter_jitter(news_clean['w514_definite'].values,news_clean['w515_lacks'].values)\n"
   ]
  },
  {
   "cell_type": "markdown",
   "metadata": {},
   "source": "<div align=\"right\"><font color=\"blue\" size=\"4\">5.0</font></div>"
  },
  {
   "cell_type": "markdown",
   "metadata": {},
   "source": [
    "(3) The number of data points in the cleaned dataset are 2083. The number of data points rejected as outliers are 46 data points. It is reasonable to eliminate these 46 data points from the data set as these data points are very far away from the mean of the distribution when considering the attributes."
   ]
  },
  {
   "cell_type": "markdown",
   "metadata": {},
   "source": "<div align=\"right\"><font color=\"blue\" size=\"4\">2.0</font></div>"
  },
  {
   "cell_type": "markdown",
   "metadata": {},
   "source": [
    "# ========== Question 1.6 --- (LEVEL 11) --- [10 marks] ==========\n",
    "\n",
    "1. [Code] Visualise some of the outlier documents and some of the inlier ones. \n",
    "1. [Text] Comment on the observations. Also comment on whether it is appropriate to do such cleaning on just the training data or on the entire data-set (including testing)."
   ]
  },
  {
   "cell_type": "markdown",
   "metadata": {},
   "source": "<div align=\"right\"><font color=\"blue\" size=\"4\">8.0/10.0</font></div>"
  },
  {
   "cell_type": "code",
   "execution_count": 18,
   "metadata": {},
   "outputs": [
    {
     "data": {
      "text/plain": [
       "<matplotlib.axes._subplots.AxesSubplot at 0x7f68065fcb38>"
      ]
     },
     "execution_count": 18,
     "metadata": {},
     "output_type": "execute_result"
    },
    {
     "data": {
      "image/png": "[encoded data removed]",
      "text/plain": [
       "<Figure size 504x504 with 2 Axes>"
      ]
     },
     "metadata": {
      "needs_background": "light"
     },
     "output_type": "display_data"
    }
   ],
   "source": [
    "\n",
    "\n",
    "lst = list(news_raw['w512_constantly'] >=  threshold['w512_constantly'])\n",
    "lst_outlier_docs = []\n",
    "for i in range(len(lst)):\n",
    "    if (lst[i]==True):\n",
    "        lst_outlier_docs.append(i)\n",
    "\n",
    "news_outlier = news_raw[news_raw['w512_constantly'] >= threshold['w512_constantly']] \n",
    "news_inlier = news_raw[news_raw['w512_constantly'] < threshold['w512_constantly']]\n",
    "news_inlier = news_inlier.head(len(news_outlier))\n",
    "\n",
    "fig = plt.subplots(1,2,figsize=(7,7), sharex=False, sharey=True)\n",
    "\n",
    "\n",
    "\n",
    "plt.subplot(1,2,1)\n",
    "plt.title('Outlier Data')\n",
    "sns.stripplot(x = 'class',y = 'w512_constantly',data = news_outlier, jitter = True, alpha = 0.45)\n",
    "\n",
    "\n",
    "\n",
    "\n",
    "plt.subplot(1,2,2)\n",
    "plt.title('Inlier Data')\n",
    "sns.stripplot(x = 'class',y = 'w512_constantly',data = news_inlier, jitter = True, alpha = 0.45)\n",
    "\n"
   ]
  },
  {
   "cell_type": "markdown",
   "metadata": {},
   "source": "<div align=\"right\"><font color=\"blue\" size=\"4\">4.0</font></div>"
  },
  {
   "cell_type": "markdown",
   "metadata": {},
   "source": [
    "(2)  a) On plotting the outlier data and inlier data, stripplots side by side it can be seen that the outlier values are far away from the real data points by an order of magnitude of around 100. The vast difference is not a regular pattern for any one single class but for all the classes. For the attribute under consideration 'w512_constantly' classes 1 & 3 have five outliers, classes 2 & 5 have six outliers and class 4 has seven outliers.\n",
    "\n",
    "b) The cleaning should be performed on not only the training set but also on the entire data-set (including the test set) to ensure consistency in the data value ranges across training set and test set."
   ]
  },
  {
   "cell_type": "markdown",
   "metadata": {},
   "source": "<div align=\"right\"><font color=\"blue\" size=\"4\">4.0</font></div>"
  },
  {
   "cell_type": "markdown",
   "metadata": {},
   "source": [
    "## 2. Naive Bayes classification\n",
    "Now we want to fit a Gaussian Naive Bayes model to the cleaned dataset. You might want first to familiarise yourself with the [`GaussianNB`](http://scikit-learn.org/0.19/modules/generated/sklearn.naive_bayes.GaussianNB.html) class in `Sklearn`."
   ]
  },
  {
   "cell_type": "markdown",
   "metadata": {},
   "source": [
    "### ========== Question 2.1 --- [6 marks] ==========\n",
    "\n",
    "Load the cleaned datasets `train_20news.csv` and `test_20news.csv` into pandas dataframes `news_train` and `news_test` respectively. Using pandas summary methods, confirm that the data is similar in both sets."
   ]
  },
  {
   "cell_type": "markdown",
   "metadata": {},
   "source": "<div align=\"right\"><font color=\"blue\" size=\"4\">4.0/6.0</font></div>"
  },
  {
   "cell_type": "code",
   "execution_count": 24,
   "metadata": {},
   "outputs": [
    {
     "name": "stdout",
     "output_type": "stream",
     "text": [
      "Training data info: \n",
      "<class 'pandas.core.frame.DataFrame'>\n",
      "RangeIndex: 2099 entries, 0 to 2098\n",
      "Columns: 521 entries, w1_aaa to class\n",
      "dtypes: int64(521)\n",
      "memory usage: 8.3 MB\n",
      "\n",
      "Number of rows and columns in the news_train data set are:  2099 521 \n",
      "\n",
      "Test data info: \n",
      "<class 'pandas.core.frame.DataFrame'>\n",
      "Int64Index: 128 entries, 1910 to 2037\n",
      "Columns: 521 entries, w1_aaa to class\n",
      "dtypes: int64(521)\n",
      "memory usage: 522.0 KB\n",
      "\n",
      "Number of rows and columns in the news_test data set are:  128 521 \n",
      "\n"
     ]
    }
   ],
   "source": [
    "data_path = os.path.join(os.getcwd(), 'datasets', 'train_20news.csv')\n",
    "news_train = pd.read_csv(data_path, delimiter = ',')\n",
    "print('Training data info: ')\n",
    "news_train.info()\n",
    "print('\\nNumber of rows and columns in the news_train data set are: ',news_train.shape[0],news_train.shape[1],'\\n')\n",
    "\n",
    "data_path = os.path.join(os.getcwd(), 'datasets', 'test_20news.csv')\n",
    "news_test = pd.read_csv(data_path, delimiter = ',')\n",
    "print('Test data info: ')\n",
    "news_test.info()\n",
    "print('\\nNumber of rows and columns in the news_test data set are: ',news_test.shape[0],news_test.shape[1],'\\n')"
   ]
  },
  {
   "cell_type": "markdown",
   "metadata": {},
   "source": "<div align=\"right\"><font color=\"blue\" size=\"4\">4.0</font></div>"
  },
  {
   "cell_type": "markdown",
   "metadata": {},
   "source": [
    "### ========== Question 2.2 --- [4 marks] ==========\n",
    "\n",
    "[Text] Answer (in brief) the following two questions:\n",
    "1. What is the assumption behing the Naive Bayes Model?\n",
    "1. What would be the main issue we would have to face if we didn't make this assumption?"
   ]
  },
  {
   "cell_type": "markdown",
   "metadata": {},
   "source": "<div align=\"right\"><font color=\"blue\" size=\"4\">4.0/4.0</font></div>"
  },
  {
   "cell_type": "markdown",
   "metadata": {},
   "source": [
    "1. Assumption behind Naive Bayes Model: the probability of an input feature give the class label is independent of the the other input features given the class label, in the dataset. The equation for Naive Baye's Assumption is P(xi | x1...xi-1 , y) = P(xi,y)\n",
    "\n",
    "\n",
    "2. Without the Naive Baye's assumption the probability of a feature given the class will depend on, the previous features encountered in the training set given that class. We will have to estimate the p(xi | x1..xi-1,y). To estimate such probabilities we would require an extremely large data set. To build such a data set is not practical.\n"
   ]
  },
  {
   "cell_type": "markdown",
   "metadata": {},
   "source": "<div align=\"right\"><font color=\"blue\" size=\"4\">4.0</font></div>"
  },
  {
   "cell_type": "markdown",
   "metadata": {},
   "source": [
    "### ========== Question 2.3 --- [8 marks] ==========\n",
    "\n",
    "1. [Code] By using the `scatter_jitter` function, display a scatter plot of the features `w281_ico` and `w273_tek` for the **cleaned** dataset `news_train`. Set the jitter value to an appropriate value for visualisation. Label axes appropriately.\n",
    "1. [Text] What do you observe about these two features? Does this impact the validity of the Naive Bayes assumption? Why or why not?"
   ]
  },
  {
   "cell_type": "markdown",
   "metadata": {},
   "source": "<div align=\"right\"><font color=\"blue\" size=\"4\">5.0/8.0</font></div>"
  },
  {
   "cell_type": "code",
   "execution_count": 42,
   "metadata": {},
   "outputs": [
    {
     "data": {
      "text/plain": [
       "Text(0,0.5,'w273_tek')"
      ]
     },
     "execution_count": 42,
     "metadata": {},
     "output_type": "execute_result"
    },
    {
     "data": {
      "image/png": "[encoded data removed]",
      "text/plain": [
       "<Figure size 432x288 with 1 Axes>"
      ]
     },
     "metadata": {
      "needs_background": "light"
     },
     "output_type": "display_data"
    }
   ],
   "source": [
    "# plt.figure(figsize=(10,7))\n",
    "scatter_jitter(news_train['w281_ico'].values,news_train['w273_tek'].values,jitter=0.1) # default jitter is set to 0.2\n",
    "plt.xlabel('w281_ico')\n",
    "plt.ylabel('w273_tek')"
   ]
  },
  {
   "cell_type": "markdown",
   "metadata": {},
   "source": "<div align=\"right\"><font color=\"blue\" size=\"4\">3.0</font></div>"
  },
  {
   "cell_type": "markdown",
   "metadata": {},
   "source": [
    "(2) As the count of 'w281_ico' increases in one document then so does 'w273_tek' in the same document. It can hence be concluded that the words 'w281_ico' and 'w273_tek' have a positive correlation. Yes there is an impact on the Naive Bayes assumption for this data set. The Naive Bayes assumption is that, the features are conditionally independent, however from the graph generated above it can be seen that the features 'w281_ico' and 'w273_tek' are positively correlated. Hence implying that the occurence of one word(w281_ico) does indeed affect the occurence of the other word(w273_tek) and vice versa, in the document. These features are hence correlated and not independent."
   ]
  },
  {
   "cell_type": "markdown",
   "metadata": {},
   "source": "<div align=\"right\"><font color=\"blue\" size=\"4\">2.0</font></div>"
  },
  {
   "cell_type": "markdown",
   "metadata": {},
   "source": [
    "### ========== Question 2.4 --- [7 marks] ==========\n",
    "1. [Text] What is a reasonable baseline against which to compare the classiffication performance? *Hint: What is the simplest classiffier you can think of?*. \n",
    "1. [Code] Estimate the baseline performance on the *training* data in terms of classification accuracy."
   ]
  },
  {
   "cell_type": "markdown",
   "metadata": {},
   "source": "<div align=\"right\"><font color=\"blue\" size=\"4\">4.5/7.0</font></div>"
  },
  {
   "cell_type": "markdown",
   "metadata": {},
   "source": [
    "(1) The simplest classifier would be that classifier which selects a prediction of the class label according to the class distribution in the data set. Mathematically this means that, the probability of a class being selected is directly propotional to the frequency of the class occurence, within the dataset."
   ]
  },
  {
   "cell_type": "markdown",
   "metadata": {},
   "source": "<div align=\"right\"><font color=\"blue\" size=\"4\">1.0</font></div>"
  },
  {
   "cell_type": "markdown",
   "metadata": {},
   "source": [
    "<div align=\"left\"><font color=\"green\" size=\"4\">Describe dummy classifer in simple words. Eg, The simplest classifier consits always predicting the class with the most observations. </font></div>"
   ]
  },
  {
   "cell_type": "code",
   "execution_count": 59,
   "metadata": {},
   "outputs": [
    {
     "name": "stdout",
     "output_type": "stream",
     "text": [
      "The classification accuracy is:  0.19723677941877085\n"
     ]
    }
   ],
   "source": [
    "dummy_classifier = DummyClassifier(strategy=\"stratified\")\n",
    "X_train = news_train.drop('class', axis=1, inplace=False)\n",
    "Y_train = news_train['class']\n",
    "dummy_classifier.fit(X_train,Y_train)\n",
    "accuracy_baseline_dummy = dummy_classifier.score(X_train,Y_train) # test sample, true label\n",
    "print('The classification accuracy is: ',accuracy_baseline_dummy)"
   ]
  },
  {
   "cell_type": "markdown",
   "metadata": {},
   "source": "<div align=\"right\"><font color=\"blue\" size=\"4\">3.5</font></div>"
  },
  {
   "cell_type": "markdown",
   "metadata": {},
   "source": [
    "<a id='question_2_5'></a>\n",
    "### ========== Question 2.5 --- [12 marks] ==========\n",
    "\n",
    "1. [Code] Fit a Gaussian Naive Bayes model to the cleaned dataset. \n",
    "\n",
    "1. [Code] Report the classification accuracy on the **training** dataset and plot a Confusion Matrix for the result (labelling the axes appropriately).\n",
    "\n",
    "1. [Text] Comment on the performance of the model. Is the accuracy a reasonable metric to use for this dataset?\n",
    "\n",
    "*Hint: You may make use of utility functions we provided, as well as an sklearn method for computing confusion matrices*"
   ]
  },
  {
   "cell_type": "markdown",
   "metadata": {},
   "source": "<div align=\"right\"><font color=\"blue\" size=\"4\">10.0/12.0</font></div>"
  },
  {
   "cell_type": "code",
   "execution_count": 47,
   "metadata": {},
   "outputs": [
    {
     "data": {
      "text/plain": [
       "GaussianNB(priors=None)"
      ]
     },
     "execution_count": 47,
     "metadata": {},
     "output_type": "execute_result"
    }
   ],
   "source": [
    "X_train = news_train.drop('class', axis=1, inplace=False)\n",
    "Y_train = news_train['class']\n",
    "gnb = GaussianNB()\n",
    "gnb.fit(X_train,Y_train)"
   ]
  },
  {
   "cell_type": "markdown",
   "metadata": {},
   "source": "<div align=\"right\"><font color=\"blue\" size=\"4\">3.0</font></div>"
  },
  {
   "cell_type": "code",
   "execution_count": 64,
   "metadata": {},
   "outputs": [
    {
     "name": "stdout",
     "output_type": "stream",
     "text": [
      "The classification accuracy is :  0.8780371605526441\n"
     ]
    },
    {
     "data": {
      "image/png": "[encoded data removed]",
      "text/plain": [
       "<Figure size 432x288 with 2 Axes>"
      ]
     },
     "metadata": {
      "needs_background": "light"
     },
     "output_type": "display_data"
    }
   ],
   "source": [
    "accuracy = gnb.score(X_train,Y_train) # test sample, true label\n",
    "print('The classification accuracy is : ',accuracy)\n",
    "\n",
    "cm = confusion_matrix (Y_train,gnb.predict(X_train)) #confusion_matrix(y_true,y_pred)\n",
    "ncm = cm / cm.sum(axis=1) # Normalized confusion matrix\n",
    "\n",
    "def plot_confusion_matrix(CM, classes=None, title='Confusion matrix'):\n",
    "    \"\"\"Plots a confusion matrix.\"\"\"\n",
    "    if classes is not None:\n",
    "        sns.heatmap(CM, xticklabels=classes, yticklabels=classes, vmin=0., vmax=1., annot=True)\n",
    "    else:\n",
    "        sns.heatmap(CM, vmin=0., vmax=1., annot=True)\n",
    "    plt.title(title)\n",
    "    plt.ylabel('True class label')\n",
    "    plt.xlabel('Predicted class label')\n",
    "    \n",
    "plt.figure()\n",
    "plot_confusion_matrix(ncm,classes=['1','2','3','4','5'])\n",
    "\n",
    "# pd.value_counts(Y_train)"
   ]
  },
  {
   "cell_type": "markdown",
   "metadata": {},
   "source": "<div align=\"right\"><font color=\"blue\" size=\"4\">4.0</font></div>"
  },
  {
   "cell_type": "markdown",
   "metadata": {},
   "source": [
    "(3) The model has an accuracy of 0.8780371605526441, whereas the baseline accuracy on the training data with the stratified strategy is just 0.19723677941877085. Hence the model has a reasonably good performance. \n",
    "\n",
    "Yes, accuracy is a reasonable metric to use for this dataset because the classes are mostly balanced (ranging from 363 data points in class 1 to 447 data points in class 4) for the training data set."
   ]
  },
  {
   "cell_type": "markdown",
   "metadata": {},
   "source": "<div align=\"right\"><font color=\"blue\" size=\"4\">3.0</font></div>"
  },
  {
   "cell_type": "markdown",
   "metadata": {},
   "source": [
    "### ========== Question 2.6 --- [3 marks] ==========\n",
    "\n",
    "[Text] Comment on the confusion matrix from the previous question. Does it look like what you would have expected? Explain."
   ]
  },
  {
   "cell_type": "markdown",
   "metadata": {},
   "source": "<div align=\"right\"><font color=\"blue\" size=\"4\">1.0/3.0</font></div>"
  },
  {
   "cell_type": "markdown",
   "metadata": {},
   "source": [
    "Given the high accuracy of the model (0.88) it is expected that the values along the diagonals would be very high, as compared to the values in the non-diagonals. Yes, while the matrix is as expected, one particular non-diagonal cell (2,3) has shown a slightly larger propotion of misclassification as compared to the other non diagonal cells."
   ]
  },
  {
   "cell_type": "markdown",
   "metadata": {},
   "source": "<div align=\"right\"><font color=\"blue\" size=\"4\">1.0</font></div>"
  },
  {
   "cell_type": "markdown",
   "metadata": {},
   "source": [
    "### ========== Question 2.7 --- [12 marks] ==========\n",
    "\n",
    "Now we want to evaluate the generalisation of the classifier on new (i.e. unseen data). \n",
    "\n",
    "1. [Code] Use the classifier you trained in Question [2.5](#question_2_5) (i.e. on the cleaned dataset) and test its performance on the test dataset. Display classification accuracy and plot a confusion matrix of the performance on the test data. \n",
    "\n",
    "1. [Code] Also, reevaluate the performance of the baseline on the test data.\n",
    "\n",
    "1. [Text] In a short paragraph (3-4 sentences) compare and comment on the results with (a) the training data and (b) the baseline (on the test data)."
   ]
  },
  {
   "cell_type": "markdown",
   "metadata": {},
   "source": "<div align=\"right\"><font color=\"blue\" size=\"4\">7.0/12.0</font></div>"
  },
  {
   "cell_type": "code",
   "execution_count": 65,
   "metadata": {},
   "outputs": [
    {
     "name": "stdout",
     "output_type": "stream",
     "text": [
      "The classification accuracy on the test data set is :  0.8203125\n"
     ]
    },
    {
     "data": {
      "image/png": "[encoded data removed]",
      "text/plain": [
       "<Figure size 432x288 with 2 Axes>"
      ]
     },
     "metadata": {
      "needs_background": "light"
     },
     "output_type": "display_data"
    }
   ],
   "source": [
    "X_Test = news_test.drop('class', axis=1, inplace=False)\n",
    "Y_Test = news_test['class']\n",
    "accuracy_test = gnb.score(X_Test,Y_Test)\n",
    "print('The classification accuracy on the test data set is : ',accuracy_test)\n",
    "cm_test = confusion_matrix (Y_Test,gnb.predict(X_Test)) #confusion_matrix(y_true,y_pred)\n",
    "ncm_test = cm_test / cm_test.sum(axis=1) # Normalized confusion matrix\n",
    "plot_confusion_matrix(ncm_test,classes=['1','2','3','4','5'])"
   ]
  },
  {
   "cell_type": "markdown",
   "metadata": {},
   "source": "<div align=\"right\"><font color=\"blue\" size=\"4\">4.0</font></div>"
  },
  {
   "cell_type": "code",
   "execution_count": 66,
   "metadata": {},
   "outputs": [
    {
     "name": "stdout",
     "output_type": "stream",
     "text": [
      "The baseline classification accuracy on the test data set is:  0.1796875\n"
     ]
    }
   ],
   "source": [
    "accuracy_baseline_test = dummy_classifier.score(X_Test,Y_Test) # test sample, true label\n",
    "print('The baseline classification accuracy on the test data set is: ',accuracy_baseline_test)"
   ]
  },
  {
   "cell_type": "markdown",
   "metadata": {},
   "source": "<div align=\"right\"><font color=\"blue\" size=\"4\">2.0</font></div>"
  },
  {
   "cell_type": "markdown",
   "metadata": {},
   "source": [
    "(3) On the training data the Gaussian Naive Bayes Model has an accuracy of 0.8780371605526441. On the test data, however there is a drop in the accuracy of the model to 0.8203125. On the training data the baseline classification accuracy is 0.19723677941877085 whereas on the test data the baseline performance is 0.1796875. In both cases (considering classification accuracy either on test data or training data) it can be concluded that the accuracy of the model is far greater than the baseline accuracy and the accuracy of the model, on training dataset and test dataset is close."
   ]
  },
  {
   "cell_type": "markdown",
   "metadata": {},
   "source": "<div align=\"right\"><font color=\"blue\" size=\"4\">1.0</font></div>"
  },
  {
   "cell_type": "markdown",
   "metadata": {},
   "source": [
    "### ========== Question 2.8 --- (LEVEL 11) --- [7 marks] ==========\n",
    "1. [Code] Fit a Gaussian Naive Bayes model to the original raw dataset (including the outliers) and test its performance on the **test** set. \n",
    "\n",
    "1. [Text] Comment on the output and explain why or why not cleaning affects the classifier."
   ]
  },
  {
   "cell_type": "markdown",
   "metadata": {},
   "source": "<div align=\"right\"><font color=\"blue\" size=\"4\">7.0/7.0</font></div>"
  },
  {
   "cell_type": "code",
   "execution_count": 69,
   "metadata": {},
   "outputs": [
    {
     "name": "stdout",
     "output_type": "stream",
     "text": [
      "Accuracy of the gaussian Naive Bayes classifier with outliers:  0.171875\n"
     ]
    },
    {
     "data": {
      "image/png": "[encoded data removed]",
      "text/plain": [
       "<Figure size 432x288 with 2 Axes>"
      ]
     },
     "metadata": {
      "needs_background": "light"
     },
     "output_type": "display_data"
    }
   ],
   "source": [
    "gnb = GaussianNB()\n",
    "X_Raw = news_raw.drop('class', axis=1, inplace=False)\n",
    "Y_Raw = news_raw['class']\n",
    "gnb.fit(X_Raw,Y_Raw)\n",
    "accuracy_gnb_with_outliers = gnb.score(X_Test,Y_Test) # test sample, true label\n",
    "print('Accuracy of the gaussian Naive Bayes classifier with outliers: ',accuracy_gnb_with_outliers)\n",
    "cm_raw = confusion_matrix (Y_Test,gnb.predict(X_Test)) #confusion_matrix(y_true,y_pred)\n",
    "ncm_raw = cm_raw / cm_raw.sum(axis=1) # Normalized confusion matrix\n",
    "plot_confusion_matrix(ncm_raw,classes=['1','2','3','4','5'])  "
   ]
  },
  {
   "cell_type": "markdown",
   "metadata": {},
   "source": "<div align=\"right\"><font color=\"blue\" size=\"4\">5.0</font></div>"
  },
  {
   "cell_type": "markdown",
   "metadata": {},
   "source": [
    "(2) The accuracy of the Gaussina Naive Bayes classifier without cleaning is extremely low. Cleaning affects the classifier because the P(Xi|Y) has two important parameters in its estimation, which are the Mean(mu) and Standard Deviation(sigma). These get changed drastically beacuse of the presence of the outliers in the dataset, causing the accuracy of the classifier to drop."
   ]
  },
  {
   "cell_type": "markdown",
   "metadata": {},
   "source": "<div align=\"right\"><font color=\"blue\" size=\"4\">2.0</font></div>"
  },
  {
   "cell_type": "markdown",
   "metadata": {},
   "source": [
    "### ========== Question 2.9 --- (LEVEL 11) --- [3 marks] ==========\n",
    "\n",
    "In this exercise we have fitted a Gaussian Naive Bayes classifier to the data (i.e. the class conditional densities are Gaussians). However, this is not ideally suited to our dataset. Can you explain why this is so? what kind of Naive Bayes model would you employ to this kind of data?"
   ]
  },
  {
   "cell_type": "markdown",
   "metadata": {},
   "source": "<div align=\"right\"><font color=\"blue\" size=\"4\">3.0/3.0</font></div>"
  },
  {
   "cell_type": "markdown",
   "metadata": {},
   "source": [
    "Fitting a Gaussian Naive Bayes classifier to the given data set is not ideally suited because the data points take up discrete integer values (the count of the words in the document) and not real values over a continuous range or interval. For data where the integer represents the feature counts, Multinomial Naive Bayes is suited for the classification task."
   ]
  },
  {
   "cell_type": "markdown",
   "metadata": {},
   "source": "<div align=\"right\"><font color=\"blue\" size=\"4\">3.0</font></div>"
  }
 ],
 "metadata": {
  "kernelspec": {
   "display_name": "Python 3",
   "language": "python",
   "name": "python3"
  },
  "language_info": {
   "codemirror_mode": {
    "name": "ipython",
    "version": 3
   },
   "file_extension": ".py",
   "mimetype": "text/x-python",
   "name": "python",
   "nbconvert_exporter": "python",
   "pygments_lexer": "ipython3",
   "version": "3.7.0"
  }
 },
 "nbformat": 4,
 "nbformat_minor": 1
}